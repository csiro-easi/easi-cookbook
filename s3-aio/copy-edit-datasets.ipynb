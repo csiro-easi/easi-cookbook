{
 "cells": [
  {
   "cell_type": "markdown",
   "id": "37883133-71bb-4273-850a-9a9762c5bf51",
   "metadata": {},
   "source": [
    "# Copy and edit a directory of datasets\n",
    "\n",
    "Copy files in each source dataset (in an S3 bucket) to another prefix/key (directory).\n",
    "Also edit the `odc-metadata.yaml` in each dataset.\n",
    "\n",
    "Demonstrates use of `s3fs` async functions.\n",
    "\n",
    "### This example\n",
    "\n",
    "1. Copy `easi-dc-data/products-index/copernicus_dem_30/Copernicus_* -> easi-dc-data/products-index/copernicus_dem_30/v2020_2/`\n",
    "1. Edit each `easi-dc-data/products-index/copernicus_dem_30/v2020_2/Copernicus_*/odc-metadata.yaml`\n",
    "\n",
    "Async workflow\n",
    "\n",
    "1. async `one_dataset()` that operates one S3 dataset path. It uses async methods to copy, read and write files\n",
    "1. async `_glob` to return a list of source S3 dataset paths\n",
    "1. `asyncio.gather` to launch the full set of jobs and let them do their thing"
   ]
  },
  {
   "cell_type": "code",
   "execution_count": null,
   "id": "a7c141d3-3069-4752-a634-1791a9f432fa",
   "metadata": {
    "tags": []
   },
   "outputs": [],
   "source": [
    "import s3fs\n",
    "import asyncio\n",
    "import aiobotocore\n",
    "from botocore.exceptions import ClientError\n",
    "\n",
    "import sys, re\n",
    "from pathlib import Path\n",
    "from IPython.display import Markdown\n",
    "from dateutil.parser import parse\n",
    "import datetime as dt\n",
    "import yaml\n",
    "from eodatasets3 import serialise\n",
    "from tempfile import TemporaryDirectory\n",
    "from pprint import pprint\n",
    "\n",
    "sys.path.insert(0, '/home/jovyan/easi-workflows')\n",
    "from tasks.utils.utils import elapsed_time\n",
    "\n",
    "# Initialise session\n",
    "loop = asyncio.get_running_loop()\n",
    "session = aiobotocore.session.AioSession(profile='temporary_power_user')\n",
    "s3 = s3fs.S3FileSystem(asynchronous=True, loop=loop, session=session)\n",
    "\n",
    "bucket = 'easi-dc-data'\n",
    "prefix = 'products-index/copernicus_dem_30'"
   ]
  },
  {
   "cell_type": "code",
   "execution_count": null,
   "id": "accdd1a2-f749-4d96-9f39-3b684f2e9c74",
   "metadata": {
    "tags": []
   },
   "outputs": [],
   "source": [
    "datasets = await s3._glob(f'{bucket}/{prefix}/Cop*')\n",
    "print(f'{len(datasets)}')\n",
    "print(f'{datasets[0]}')"
   ]
  },
  {
   "cell_type": "code",
   "execution_count": null,
   "id": "939e0432-1e7e-4702-b768-8fec4b766b73",
   "metadata": {
    "tags": []
   },
   "outputs": [],
   "source": [
    "async def one_dataset(dataset, tmpdir=None):\n",
    "    \"\"\"Process one dataset\"\"\"\n",
    "    if tmpdir is None:\n",
    "        tmpdir = TemporaryDirectory()\n",
    "        \n",
    "    # Old version\n",
    "    oldversion = '2020_2'  # Data-pipeline driver added 15 May 2021\n",
    "    olddt = parse('2021-03-01')\n",
    "    \n",
    "    # New target\n",
    "    # dataset = 'easi-dc-data/products-index/copernicus_dem_30/Copernicus_DSM_COG_10_S10_00_E141_00_DEM'\n",
    "    # target  = 'easi-dc-data/products-index/copernicus_dem_30/v2020_2/Copernicus_DSM_COG_10_S10_00_E141_00_DEM'\n",
    "    parts = dataset.split('/')\n",
    "    x = parts[:-1]\n",
    "    x.append(f'v{oldversion}')\n",
    "    x.append(parts[-1])\n",
    "    target = '/'.join(x)\n",
    "    \n",
    "    # Copy old dataset to new target\n",
    "    _ = await s3._copy(dataset, target, recursive=True)\n",
    "    \n",
    "    # Read new odc-metadata.yaml\n",
    "    r = await s3._cat(f'{target}/odc-metadata.yaml')\n",
    "    y = yaml.load(r, Loader=yaml.FullLoader)\n",
    "    doc = serialise.from_doc(y)  # Returns eodatasets3.model.DatasetDoc()\n",
    "    \n",
    "    # Edit new odc-metadata.yaml\n",
    "    product = 'copernicus_dem_30'\n",
    "    platform = 'GLO-30'\n",
    "    gsd = '30'\n",
    "    m = re.search('([NS]\\w{2})_\\d{2}_([EW]\\w{3})', doc.label)\n",
    "    region_code = f'{m.group(1)}{m.group(2)}'\n",
    "\n",
    "    parts = doc.label.split('-')\n",
    "    doc.label = f'{parts[0]}-v{oldversion}'\n",
    "    doc.product.name = f'{product}_v{oldversion}'\n",
    "    p = doc.properties\n",
    "    p['datetime'] = olddt\n",
    "    p['eo:gsd'] = gsd\n",
    "    p['eo:platform'] = platform\n",
    "    p['odc:dataset_version'] = oldversion\n",
    "    p['odc:region_code'] = region_code\n",
    "\n",
    "    # Write new odc-metadata.yaml\n",
    "    try:\n",
    "        trg = f'{tmpdir.name}/odc-metadata.yaml'\n",
    "        serialise.to_path(Path(trg), doc)\n",
    "        _ = await s3._put(trg, f'{target}/odc-metadata.yaml')\n",
    "    except (ClientError, PermissionError) as e:\n",
    "        print(e)\n",
    "        # Exit cell without traceback, https://stackoverflow.com/a/56953105\n",
    "        class StopExecution(Exception):\n",
    "            def _render_traceback_(self):\n",
    "                pass\n",
    "        raise StopExecution\n",
    "    \n",
    "    # Report\n",
    "    return target\n"
   ]
  },
  {
   "cell_type": "code",
   "execution_count": null,
   "id": "961c0b0f-183f-41f6-b7f5-d9f4ccbad830",
   "metadata": {
    "tags": []
   },
   "outputs": [],
   "source": [
    "ITERATIONS = 1000\n",
    "\n",
    "# Testing\n",
    "# tempdir = TemporaryDirectory(dir='/home/jovyan/data/copdem/')\n",
    "\n",
    "async def go(i,d):\n",
    "    r = await one_dataset(d)  #, tempdir\n",
    "    msg = f'Completed [{i:03d}]: {d} -> {r}'\n",
    "    print(msg)\n",
    "    return msg"
   ]
  },
  {
   "cell_type": "code",
   "execution_count": null,
   "id": "b0b81563-2a29-4fe5-82c9-4cc38db8bdee",
   "metadata": {
    "tags": []
   },
   "outputs": [],
   "source": [
    "# asyncio.gather - Fastest\n",
    "\n",
    "start = dt.datetime.now()\n",
    "\n",
    "dirs = await s3._glob(f'{bucket}/{prefix}/Copernicus_DSM_COG_*_DEM')\n",
    "\n",
    "# No progress\n",
    "r = await asyncio.gather(*[go(i,d) for i,d in enumerate(dirs) if i<=ITERATIONS])\n",
    "\n",
    "print(elapsed_time(dt.datetime.now()-start))"
   ]
  },
  {
   "cell_type": "code",
   "execution_count": null,
   "id": "db6040f7-ba4f-4fd7-81f5-05fc2462ba9c",
   "metadata": {
    "tags": []
   },
   "outputs": [],
   "source": [
    "# enumerate list of dirs - Slowest\n",
    "\n",
    "# dirs = await s3._glob(f'{bucket}/{prefix}/Copernicus_DSM_COG_*_DEM')\n",
    "\n",
    "# # Progress\n",
    "# for i,d in enumerate(dirs):\n",
    "#     r = await go(i,d)\n",
    "#     if i > ITERATIONS:\n",
    "#         break\n",
    "\n",
    "# print(elapsed_time(dt.datetime.now()-start))"
   ]
  },
  {
   "cell_type": "code",
   "execution_count": null,
   "id": "2689fee1-1268-4038-bb19-7f4d218cd029",
   "metadata": {
    "tags": []
   },
   "outputs": [],
   "source": [
    "# walk and regex dirs - Slow enough\n",
    "\n",
    "# start = dt.datetime.now()\n",
    "\n",
    "# patt = re.compile(f'{bucket}/{prefix}/Copernicus_DSM_COG_\\w+_DEM$')\n",
    "\n",
    "# done = False\n",
    "# async for root, dirs, files in s3._walk(f'{bucket}/{prefix}/'):\n",
    "#     for i,d in enumerate(dirs):\n",
    "#         src = f'{root}/{d}'\n",
    "#         if patt.search(src):\n",
    "#             # tmpdir = TemporaryDirectory(dir='/home/jovyan/data/copdem/')  # Testing\n",
    "#             r = await go(i,src)\n",
    "#             if i > ITERATIONS:\n",
    "#                 done = True\n",
    "#                 break\n",
    "#     if done:\n",
    "#         break\n",
    "    \n",
    "# print(elapsed_time(dt.datetime.now()-start))"
   ]
  },
  {
   "cell_type": "code",
   "execution_count": null,
   "id": "1ae89179-15f9-4565-960d-a936ff849dba",
   "metadata": {
    "tags": []
   },
   "outputs": [],
   "source": [
    "# Confirm that a target file is correct\n",
    "\n",
    "r = await s3._cat('s3://easi-dc-data/products-index/copernicus_dem_30/v2020_2/Copernicus_DSM_COG_10_S10_00_E141_00_DEM/odc-metadata.yaml')\n",
    "print(r.decode('utf-8'))"
   ]
  },
  {
   "cell_type": "code",
   "execution_count": null,
   "id": "ba0dbe43-300e-4e69-8527-f18dc9a36291",
   "metadata": {},
   "outputs": [],
   "source": []
  }
 ],
 "metadata": {
  "kernelspec": {
   "display_name": "Python 3 (ipykernel)",
   "language": "python",
   "name": "python3"
  },
  "language_info": {
   "codemirror_mode": {
    "name": "ipython",
    "version": 3
   },
   "file_extension": ".py",
   "mimetype": "text/x-python",
   "name": "python",
   "nbconvert_exporter": "python",
   "pygments_lexer": "ipython3",
   "version": "3.10.6"
  }
 },
 "nbformat": 4,
 "nbformat_minor": 5
}
