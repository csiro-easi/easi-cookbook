{
 "cells": [
  {
   "cell_type": "markdown",
   "id": "a516e7fe-d22b-4176-99f2-3fa3eef177a6",
   "metadata": {},
   "source": [
    "## Create a dask-gateway cluster from an Argo workflow\n",
    "\n",
    "This notebook creates a small dask-gateway cluster.\n",
    "\n",
    "It is a companion to `workflows/easi-dask-gateway.yaml`.\n",
    "\n",
    "The pod/worker environment and parameters can be passed in from the Argo workflow."
   ]
  },
  {
   "cell_type": "code",
   "execution_count": null,
   "id": "38f8d44d-b73b-4964-afb8-73c57047a03d",
   "metadata": {},
   "outputs": [],
   "source": [
    "from dask_gateway import Gateway\n",
    "import logging\n",
    "\n",
    "logging.basicConfig(level=logging.INFO)"
   ]
  },
  {
   "cell_type": "code",
   "execution_count": null,
   "id": "6269434c-9e39-4769-bb05-a70a42d68038",
   "metadata": {},
   "outputs": [],
   "source": [
    "def create_cluster(\n",
    "    gateway: Gateway,\n",
    "    cluster_name: str = None,\n",
    "    new_cluster: bool: True,\n",
    "    workers: tuple = (1,1),\n",
    "    adapt = False,\n",
    "    options = None,\n",
    "):\n",
    "    clusters = gateway.list_clusters()\n",
    "    if cluster_name is not None and cluster_name in clusters:\n",
    "        # Connect to existing cluster\n",
    "        cluster = gateway.connect(cluster_name)   # This will block until the cluster enters the running state\n",
    "        logging.info(f'Connected to existing cluster: {cluster_name}')\n",
    "    else:\n",
    "        # Start new cluster\n",
    "        cluster_name = gateway.submit(cluster_options=options)   # This is non-blocking, multiple clusters can be requested simultaneously\n",
    "        cluster = gateway.connect(cluster_name)\n",
    "        logging.info(f'Created new cluster: {cluster_name}')\n",
    "    if adapt:\n",
    "        logging.info('Set cluster to adapt')\n",
    "        cluster.adapt(minimum = workers[0], maximum=workers[1])\n",
    "    else:\n",
    "        logging.info('Set cluster to scale')\n",
    "        cluster.scale(workers[0])\n",
    "    return cluster"
   ]
  },
  {
   "cell_type": "code",
   "execution_count": null,
   "id": "bec9a809-379a-4a21-b446-c45aacb78e61",
   "metadata": {},
   "outputs": [],
   "source": [
    "gateway = Gateway()\n",
    "options = gateway.cluster_options()\n",
    "cluster = create_cluster(gateway)\n",
    "client = cluster.get_client()\n",
    "\n",
    "# Show cluster and client objects and options\n",
    "display(cluster)\n",
    "display(client)\n",
    "display(options)"
   ]
  },
  {
   "cell_type": "code",
   "execution_count": null,
   "id": "6450a124-78c7-4201-b274-e5d5a5f5739e",
   "metadata": {},
   "outputs": [],
   "source": [
    "# Do work"
   ]
  },
  {
   "cell_type": "code",
   "execution_count": null,
   "id": "f4edba4d-0396-4b7c-9486-b66de87031a8",
   "metadata": {},
   "outputs": [],
   "source": [
    "client.close()\n",
    "cluster.shutdown()"
   ]
  }
 ],
 "metadata": {
  "kernelspec": {
   "display_name": "Python 3 (ipykernel)",
   "language": "python",
   "name": "python3"
  },
  "language_info": {
   "codemirror_mode": {
    "name": "ipython",
    "version": 3
   },
   "file_extension": ".py",
   "mimetype": "text/x-python",
   "name": "python",
   "nbconvert_exporter": "python",
   "pygments_lexer": "ipython3",
   "version": "3.10.12"
  }
 },
 "nbformat": 4,
 "nbformat_minor": 5
}
